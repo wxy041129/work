{
 "cells": [
  {
   "cell_type": "code",
   "execution_count": 2,
   "metadata": {},
   "outputs": [
    {
     "name": "stdout",
     "output_type": "stream",
     "text": [
      "均方根误差（RMSE）: 0.1652799928539963\n"
     ]
    }
   ],
   "source": [
    "import pandas as pd\n",
    "import numpy as np\n",
    "from sklearn.linear_model import LinearRegression\n",
    "from sklearn.model_selection import train_test_split\n",
    "from sklearn.preprocessing import MinMaxScaler\n",
    "from sklearn.metrics import mean_squared_error\n",
    "\n",
    "# 读取数据\n",
    "data = pd.read_csv(\"data/bike.csv\")\n",
    "\n",
    "# 剔除 id 列\n",
    "data = data.drop(\"id\", axis=1)\n",
    "\n",
    "# 筛选出上海市的所有数据，然后剔除 city 列\n",
    "data_shanghai = data[data[\"city\"] == 1].drop(\"city\", axis=1)\n",
    "\n",
    "# 将 hour 列中原来 6 点 - 18 点统一为 1；19 点 - 次日 5 点统一为 0\n",
    "data_shanghai[\"hour\"] = np.where((data_shanghai[\"hour\"] >= 6) & (data_shanghai[\"hour\"] <= 18), 1, 0)\n",
    "\n",
    "# 提取 y 列并转换为 numpy 列向量，剔除原先的 y 列\n",
    "y = data_shanghai[\"y\"].values.reshape(-1, 1)\n",
    "data_shanghai = data_shanghai.drop(\"y\", axis=1)\n",
    "\n",
    "# 将 DataFrame 对象转换为 Numpy 数组\n",
    "X = data_shanghai.values\n",
    "\n",
    "# 划分训练集和测试集\n",
    "X_train, X_test, y_train, y_test = train_test_split(X, y, test_size=0.2, random_state=42)\n",
    "\n",
    "# 归一化\n",
    "scaler_X = MinMaxScaler()\n",
    "X_train = scaler_X.fit_transform(X_train)\n",
    "X_test = scaler_X.transform(X_test)\n",
    "\n",
    "scaler_y = MinMaxScaler()\n",
    "y_train = scaler_y.fit_transform(y_train)\n",
    "y_test = scaler_y.transform(y_test)\n",
    "\n",
    "# 构建线性回归模型并训练\n",
    "model = LinearRegression()\n",
    "model.fit(X_train, y_train)\n",
    "\n",
    "# 在测试集上进行预测\n",
    "y_pred = model.predict(X_test)\n",
    "\n",
    "# 计算均方根误差（RMSE）\n",
    "rmse = np.sqrt(mean_squared_error(y_test, y_pred))\n",
    "print(\"均方根误差（RMSE）:\", rmse)"
   ]
  },
  {
   "cell_type": "code",
   "execution_count": 3,
   "metadata": {},
   "outputs": [
    {
     "name": "stdout",
     "output_type": "stream",
     "text": [
      "分类准确率： 1.0\n"
     ]
    }
   ],
   "source": [
    "from sklearn.datasets import load_iris\n",
    "from sklearn.model_selection import train_test_split\n",
    "from sklearn.neighbors import KNeighborsClassifier\n",
    "import matplotlib.pyplot as plt\n",
    "\n",
    "# 加载鸢尾花数据集\n",
    "iris = load_iris()\n",
    "\n",
    "# 划分训练集和测试集，训练集比例为 0.2，随机种子为 42\n",
    "x_train, x_test, y_train, y_test = train_test_split(iris.data, iris.target, test_size=0.2, random_state=42)\n",
    "\n",
    "# 以花萼长度为横轴，花萼宽度为纵轴绘制数据的散点图（此处未给出具体实现代码）\n",
    "\n",
    "# 对鸢尾花数据的特征进行 PCA 降维，并且可视化降维后的结果（此处未给出具体实现代码）\n",
    "\n",
    "# 以 K = 3 训练分类器\n",
    "knn = KNeighborsClassifier(n_neighbors=3)\n",
    "knn.fit(x_train, y_train)\n",
    "\n",
    "# 在测试集上进行测试\n",
    "y_pred = knn.predict(x_test)\n",
    "\n",
    "# 计算分类准确率\n",
    "accuracy = knn.score(x_test, y_test)\n",
    "print(\"分类准确率：\", accuracy)"
   ]
  }
 ],
 "metadata": {
  "kernelspec": {
   "display_name": "Python 3",
   "language": "python",
   "name": "python3"
  },
  "language_info": {
   "codemirror_mode": {
    "name": "ipython",
    "version": 3
   },
   "file_extension": ".py",
   "mimetype": "text/x-python",
   "name": "python",
   "nbconvert_exporter": "python",
   "pygments_lexer": "ipython3",
   "version": "3.12.6"
  }
 },
 "nbformat": 4,
 "nbformat_minor": 2
}
