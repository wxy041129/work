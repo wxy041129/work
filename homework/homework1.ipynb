{
 "cells": [
  {
   "cell_type": "code",
   "execution_count": 1,
   "metadata": {},
   "outputs": [
    {
     "name": "stdout",
     "output_type": "stream",
     "text": [
      "★数据科学与工程导论★\n"
     ]
    }
   ],
   "source": [
    "#1.编写Python程序，打印\"数据科学与工程导论\"，并使用 print(chr(0x2605)) 语句将这句话包围起来。\n",
    "print(chr(0x2605) + \"数据科学与工程导论\" + chr(0x2605))"
   ]
  },
  {
   "cell_type": "code",
   "execution_count": 3,
   "metadata": {},
   "outputs": [
    {
     "name": "stdout",
     "output_type": "stream",
     "text": [
      "结果：\n",
      "1.0\n",
      "2.0\n",
      "3.0\n"
     ]
    }
   ],
   "source": [
    "#2.写一个 Python 程序，输入 x, y, z 这三个数，将这三个数从小到大使用 print 函数打印出来。\n",
    "x = float(input(\"输入第一个数：\"))\n",
    "y = float(input(\"输入第二个数：\"))\n",
    "z = float(input(\"输入第三个数：\"))\n",
    "\n",
    "#将三个数放入列表\n",
    "numbers = [x, y, z]\n",
    "\n",
    "#对列表进行排序\n",
    "numbers.sort()\n",
    "\n",
    "#打印排序后的结果\n",
    "print(\"结果：\")\n",
    "for number in numbers:\n",
    "    print(number)"
   ]
  },
  {
   "cell_type": "code",
   "execution_count": 4,
   "metadata": {},
   "outputs": [
    {
     "name": "stdout",
     "output_type": "stream",
     "text": [
      "从大到小排序的结果是：\n",
      "4.0\n",
      "3.0\n",
      "2.0\n",
      "1.0\n"
     ]
    }
   ],
   "source": [
    "#3.写一个 Python 程序，有 w, x, y, z 四个数，将这四个数从大到小使用 print 函数打印出来。\n",
    "w = float(input(\"输入第一个数：\"))\n",
    "x = float(input(\"输入第二个数：\"))\n",
    "y = float(input(\"输入第三个数：\"))\n",
    "z = float(input(\"输入第四个数：\"))\n",
    "\n",
    "#将四个数放入列表\n",
    "numbers = [w, x, y, z]\n",
    "\n",
    "#对列表进行降序排序\n",
    "numbers.sort(reverse=True)\n",
    "\n",
    "#打印排序后的结果\n",
    "print(\"从大到小排序的结果是：\")\n",
    "for number in numbers:\n",
    "    print(number)"
   ]
  },
  {
   "cell_type": "code",
   "execution_count": 5,
   "metadata": {},
   "outputs": [
    {
     "name": "stdout",
     "output_type": "stream",
     "text": [
      "1到100之间的所有奇数：\n",
      "1\n",
      "3\n",
      "5\n",
      "7\n",
      "9\n",
      "11\n",
      "13\n",
      "15\n",
      "17\n",
      "19\n",
      "21\n",
      "23\n",
      "25\n",
      "27\n",
      "29\n",
      "31\n",
      "33\n",
      "35\n",
      "37\n",
      "39\n",
      "41\n",
      "43\n",
      "45\n",
      "47\n",
      "49\n",
      "51\n",
      "53\n",
      "55\n",
      "57\n",
      "59\n",
      "61\n",
      "63\n",
      "65\n",
      "67\n",
      "69\n",
      "71\n",
      "73\n",
      "75\n",
      "77\n",
      "79\n",
      "81\n",
      "83\n",
      "85\n",
      "87\n",
      "89\n",
      "91\n",
      "93\n",
      "95\n",
      "97\n",
      "99\n"
     ]
    }
   ],
   "source": [
    "#4.写一个 Python 程序，输出 1-100 中的所有奇数。\n",
    "print(\"1到100之间的所有奇数：\")\n",
    "for i in range(1, 101):  #range的上限是101，且range函数生成的序列不包括结束值\n",
    "    if i % 2 != 0:  #如果i除以2的余数不为0，则i是奇数\n",
    "        print(i)"
   ]
  },
  {
   "cell_type": "code",
   "execution_count": 6,
   "metadata": {},
   "outputs": [
    {
     "name": "stdout",
     "output_type": "stream",
     "text": [
      "1到100的和是： 5050\n"
     ]
    }
   ],
   "source": [
    "#5.写一个 Python 程序，用 for 循环，求解 1 到 100 的和。\n",
    "sum = 0\n",
    "\n",
    "# 使用for循环从1加到100\n",
    "for i in range(1, 101):\n",
    "    sum += i  #将当前的i加到sum上\n",
    "\n",
    "#打印最终的和\n",
    "print(\"1到100的和是：\", sum)"
   ]
  },
  {
   "cell_type": "code",
   "execution_count": 9,
   "metadata": {},
   "outputs": [
    {
     "name": "stdout",
     "output_type": "stream",
     "text": [
      "使用for循环倒序输出：\n",
      "5 4 3 2 1 "
     ]
    }
   ],
   "source": [
    "#6.写一个 Python 程序，分别用 for 和 while 循环实现对一个给定序列的倒排序输出。例如，给定 L=[1,2,3,4,5]，输出为 [5,4,3,2,1]。\n",
    "#for循环\n",
    "L = [1, 2, 3, 4, 5]\n",
    "\n",
    "#使用for循环进行倒序输出\n",
    "print(\"使用for循环倒序输出：\")\n",
    "for i in range(len(L) - 1, -1, -1):\n",
    "    print(L[i], end=' ')"
   ]
  },
  {
   "cell_type": "code",
   "execution_count": 10,
   "metadata": {},
   "outputs": [
    {
     "name": "stdout",
     "output_type": "stream",
     "text": [
      "使用while循环倒序输出：\n",
      "5 4 3 2 1 "
     ]
    }
   ],
   "source": [
    "#while循环\n",
    "L = [1, 2, 3, 4, 5]\n",
    "\n",
    "#初始化索引\n",
    "index = len(L) - 1\n",
    "\n",
    "#使用while循环进行倒序输出\n",
    "print(\"使用while循环倒序输出：\")\n",
    "while index >= 0:\n",
    "    print(L[index], end=' ')\n",
    "    index -= 1  # 更新索引"
   ]
  },
  {
   "cell_type": "code",
   "execution_count": 11,
   "metadata": {},
   "outputs": [
    {
     "name": "stdout",
     "output_type": "stream",
     "text": [
      "字符串中包含两个或两个以上连续出现的相同字符。\n"
     ]
    }
   ],
   "source": [
    "#7.写一个 Python 程序，判断一个输入的字符串 S 是否包含由两个或两个以上连续出现的相同字符组成的字符串。例如，abccccda 中就包含 cccc 这个由 4 个连续字符组成的字符串。\n",
    "S = input(\"请输入一个字符串：\")\n",
    "\n",
    "#初始化一个标志变量，用于标记是否找到连续的相同字符\n",
    "found = False\n",
    "\n",
    "#遍历字符串，检查连续的相同字符\n",
    "for i in range(len(S) - 1):  #减1是因为需要比较当前字符和下一个字符\n",
    "    if S[i] == S[i + 1]:  #如果当前字符和下一个字符相同\n",
    "        found = True\n",
    "        break  #找到，就跳出循环\n",
    "\n",
    "if found:\n",
    "    print(\"字符串中包含两个或两个以上连续出现的相同字符。\")\n",
    "else:\n",
    "    print(\"字符串中不包含两个或两个以上连续出现的相同字符。\")"
   ]
  },
  {
   "cell_type": "code",
   "execution_count": 12,
   "metadata": {},
   "outputs": [
    {
     "name": "stdout",
     "output_type": "stream",
     "text": [
      "去掉空格后的字符串： DataScienceandEngineering\n"
     ]
    }
   ],
   "source": [
    "#8.写一个 Python 程序，输入一个字符串 S，去掉其中所有的空格后输出。例如，“DataScience and Engineering”，去掉空格后为“DataScienceandEngineering”。\n",
    "S = input(\"请输入一个字符串：\")\n",
    "\n",
    "#使用字符串的replace方法去掉所有空格\n",
    "S_without_spaces = S.replace(\" \", \"\")\n",
    "\n",
    "#输出去掉空格后的字符串\n",
    "print(\"去掉空格后的字符串：\", S_without_spaces)"
   ]
  },
  {
   "cell_type": "code",
   "execution_count": 13,
   "metadata": {},
   "outputs": [
    {
     "name": "stdout",
     "output_type": "stream",
     "text": [
      "8.0 的立方根是：2.0\n"
     ]
    }
   ],
   "source": [
    "#9.请设计一个求 3 次方根的算法（不允许直接调用求方根的函数），并给出对应的 Python 程序。 采用牛顿迭代法求解，迭代过程数学公式表示为： Xn+1=Xn-f（Xn）/f'（Xn）\n",
    "def cube_root(a, tolerance=1e-6, max_iterations=100):\n",
    "    #初始猜测\n",
    "    X_n = a / 3 if a < 0 else a ** (1/3)\n",
    "    \n",
    "    for i in range(max_iterations):\n",
    "        #计算下一个近似值\n",
    "        X_next = (2/3) * X_n + (a / (3 * X_n ** 2))\n",
    "        \n",
    "        #检查是否收敛\n",
    "        if abs(X_next - X_n) < tolerance:\n",
    "            return X_next\n",
    "        \n",
    "        #更新当前近似值\n",
    "        X_n = X_next\n",
    "    \n",
    "    return X_n  #如果没有收敛，返回最后一个近似值\n",
    "\n",
    "#测试\n",
    "a = float(input(\"请输入一个数：\"))\n",
    "root = cube_root(a)\n",
    "print(f\"{a} 的立方根是：{root}\")"
   ]
  },
  {
   "cell_type": "code",
   "execution_count": 14,
   "metadata": {},
   "outputs": [
    {
     "name": "stdout",
     "output_type": "stream",
     "text": [
      "5! = 120\n"
     ]
    }
   ],
   "source": [
    "#10.写一个 Python 程序，给定一个常数 n（n>0），求 n 的阶乘，即 n!=1×2×...×(n-1)×n。例如，4!=24，5!=120。\n",
    "def factorial_iterative(n):\n",
    "    result = 1\n",
    "    for i in range(1, n + 1):\n",
    "        result *= i\n",
    "    return result\n",
    "\n",
    "n = int(input(\"请输入一个正整数：\"))\n",
    "#计算阶乘\n",
    "result = factorial_iterative(n)\n",
    "#输出结果\n",
    "print(f\"{n}! = {result}\")"
   ]
  }
 ],
 "metadata": {
  "kernelspec": {
   "display_name": "Python 3",
   "language": "python",
   "name": "python3"
  },
  "language_info": {
   "codemirror_mode": {
    "name": "ipython",
    "version": 3
   },
   "file_extension": ".py",
   "mimetype": "text/x-python",
   "name": "python",
   "nbconvert_exporter": "python",
   "pygments_lexer": "ipython3",
   "version": "3.12.6"
  }
 },
 "nbformat": 4,
 "nbformat_minor": 2
}
